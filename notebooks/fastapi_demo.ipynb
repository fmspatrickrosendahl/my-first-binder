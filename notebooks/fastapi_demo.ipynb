{
 "cells": [
  {
   "cell_type": "markdown",
   "id": "7436db7e-b559-44c9-a953-71a56a925bef",
   "metadata": {},
   "source": [
    "# see the demo notebook here\n",
    "https://github.com/David-Lor/FastAPI_LightningTalk-Notebook/blob/master/FastAPI.ipynb\n",
    "\n",
    "https://fastapi.tiangolo.com/tutorial/body/"
   ]
  },
  {
   "cell_type": "code",
   "execution_count": 1,
   "id": "4268cee0-f2d4-4ad0-8c9a-462398223352",
   "metadata": {},
   "outputs": [
    {
     "name": "stdout",
     "output_type": "stream",
     "text": [
      "[{'base_url': '/user/fmspatrickrosen-my-first-binder-xaaiuwpy/', 'hostname': '0.0.0.0', 'notebook_dir': '/home/jovyan', 'password': False, 'pid': 18, 'port': 8888, 'secure': False, 'sock': '', 'token': 'rNEZp-oWTJuxctyRLXSw2Q', 'url': 'http://0.0.0.0:8888/user/fmspatrickrosen-my-first-binder-xaaiuwpy/'}]\n"
     ]
    }
   ],
   "source": [
    "# Basic import of FastAPI and function to start running the API with Uvicorn\n",
    "\n",
    "import uvicorn\n",
    "from fastapi import FastAPI\n",
    "\n",
    "from notebook import notebookapp\n",
    "servers = list(notebookapp.list_running_servers())\n",
    "print(servers)\n",
    "base_url = servers[0]['base_url']\n",
    "\n",
    "app = FastAPI(root_path=base_url + \"proxy/8000\")\n",
    "\n",
    "def run():\n",
    "    uvicorn.run(app)"
   ]
  },
  {
   "cell_type": "code",
   "execution_count": 2,
   "id": "0bf6bd57-85dc-41f5-9519-a7df757df87f",
   "metadata": {},
   "outputs": [],
   "source": [
    "# Code in this cell is just for (re)starting the API on a Process, and other compatibility stuff with Jupyter cells.\n",
    "# Just ignore it!\n",
    "\n",
    "from multiprocessing import Process\n",
    "from wait4it import wait_for\n",
    "\n",
    "_api_process = None\n",
    "\n",
    "def stop_api():\n",
    "    \"\"\"Stop the API if running\"\"\"\n",
    "    global _api_process\n",
    "    if _api_process:\n",
    "        _api_process.terminate()\n",
    "        _api_process.join()\n",
    "    print(\"stopped\")\n",
    "    \n",
    "def start_api():\n",
    "    \"\"\"Stop the API if running; Start the API; Wait until API (port) is available (reachable)\"\"\"\n",
    "    global _api_process\n",
    "\n",
    "    stop_api()\n",
    "    \n",
    "    _api_process = Process(target=run, daemon=True)\n",
    "    _api_process.start()\n",
    "    wait_for(port=8000)\n",
    "\n",
    "def delete_route(method: str, path: str):\n",
    "    \"\"\"Delete the given route from the API. This must be called on cells that re-define a route\"\"\"\n",
    "    [app.routes.remove(route) for route in app.routes if method in route.methods and route.path == path]"
   ]
  },
  {
   "cell_type": "code",
   "execution_count": 3,
   "id": "256e554f-5aca-4474-bb71-9a5a7d253df7",
   "metadata": {},
   "outputs": [
    {
     "name": "stdout",
     "output_type": "stream",
     "text": [
      "stopped\n"
     ]
    }
   ],
   "source": [
    "stop_api()"
   ]
  },
  {
   "cell_type": "code",
   "execution_count": 4,
   "id": "e8fb694c-5ce8-46a3-8f2e-c8b923c2533c",
   "metadata": {
    "tags": []
   },
   "outputs": [
    {
     "name": "stdout",
     "output_type": "stream",
     "text": [
      "stopped\n"
     ]
    },
    {
     "name": "stderr",
     "output_type": "stream",
     "text": [
      "INFO:     Started server process [124]\n",
      "INFO:     Waiting for application startup.\n",
      "INFO:     Application startup complete.\n",
      "INFO:     Uvicorn running on http://127.0.0.1:8000 (Press CTRL+C to quit)\n"
     ]
    },
    {
     "name": "stdout",
     "output_type": "stream",
     "text": [
      "INFO:     ::ffff:10.0.14.4:0 - \"GET /user/fmspatrickrosen-my-first-binder-xaaiuwpy/proxy/8000/docs HTTP/1.1\" 200 OK\n",
      "INFO:     ::ffff:10.0.14.4:0 - \"GET /user/fmspatrickrosen-my-first-binder-xaaiuwpy/proxy/8000/openapi.json HTTP/1.1\" 200 OK\n"
     ]
    },
    {
     "name": "stderr",
     "output_type": "stream",
     "text": [
      "INFO:     Shutting down\n",
      "INFO:     Waiting for application shutdown.\n",
      "INFO:     Application shutdown complete.\n",
      "INFO:     Finished server process [124]\n"
     ]
    }
   ],
   "source": [
    "@app.get(\"/\")\n",
    "def get_root():\n",
    "    return {\"Hello\": \"World\"}\n",
    "\n",
    "start_api()"
   ]
  },
  {
   "cell_type": "code",
   "execution_count": 11,
   "id": "56ce81ba-794b-4aab-ad9e-54c4c5c1ca4b",
   "metadata": {
    "tags": []
   },
   "outputs": [
    {
     "data": {
      "text/html": [
       "\n",
       "        <iframe\n",
       "            width=\"800\"\n",
       "            height=\"600\"\n",
       "            src=\"https://hub.gke2.mybinder.org//user/fmspatrickrosen-my-first-binder-xaaiuwpy/proxy/8000/docs#\"\n",
       "            frameborder=\"0\"\n",
       "            allowfullscreen\n",
       "            \n",
       "        ></iframe>\n",
       "        "
      ],
      "text/plain": [
       "<IPython.lib.display.IFrame at 0x7f1f422736d0>"
      ]
     },
     "execution_count": 11,
     "metadata": {},
     "output_type": "execute_result"
    }
   ],
   "source": [
    "from IPython.display import IFrame\n",
    "IFrame(\"https://hub.gke2.mybinder.org/\" + base_url + \"proxy/8000/docs#\", width = 800, height = 600)\n",
    "#%%html\n",
    "#<!--iframe src=\"http://localhost:8000/docs#/default/get_root__get\" width=\"800\" height=\"600\"></iframe-->\n",
    "#<iframe src=\"https://hub.gke2.mybinder.org/\" + base_url + \"proxy/8000/docs#\" width=\"800\" height=\"600\"></iframe>"
   ]
  },
  {
   "cell_type": "code",
   "execution_count": 12,
   "id": "d24840b1-bd28-42dd-96a6-643be35f00c6",
   "metadata": {
    "collapsed": true,
    "jupyter": {
     "outputs_hidden": true
    },
    "tags": []
   },
   "outputs": [
    {
     "name": "stdout",
     "output_type": "stream",
     "text": [
      "stopped\n"
     ]
    },
    {
     "name": "stderr",
     "output_type": "stream",
     "text": [
      "INFO:     Started server process [151]\n",
      "INFO:     Waiting for application startup.\n",
      "INFO:     Application startup complete.\n",
      "INFO:     Uvicorn running on http://127.0.0.1:8000 (Press CTRL+C to quit)\n"
     ]
    },
    {
     "name": "stdout",
     "output_type": "stream",
     "text": [
      "INFO:     ::ffff:10.0.14.4:0 - \"GET /user/fmspatrickrosen-my-first-binder-xaaiuwpy/proxy/8000/docs HTTP/1.1\" 200 OK\n",
      "INFO:     ::ffff:10.0.14.4:0 - \"GET /user/fmspatrickrosen-my-first-binder-xaaiuwpy/proxy/8000/openapi.json HTTP/1.1\" 200 OK\n"
     ]
    },
    {
     "name": "stderr",
     "output_type": "stream",
     "text": [
      "INFO:     Shutting down\n",
      "INFO:     Waiting for application shutdown.\n",
      "INFO:     Application shutdown complete.\n",
      "INFO:     Finished server process [151]\n"
     ]
    }
   ],
   "source": [
    "@app.get(\"/people/{person_id}\")\n",
    "def get_person(person_id: int):\n",
    "    return {\"person_id\": person_id}\n",
    "\n",
    "start_api()"
   ]
  },
  {
   "cell_type": "code",
   "execution_count": 13,
   "id": "a4e166d4-f874-4370-8e3a-26a4f706c6d9",
   "metadata": {
    "collapsed": true,
    "jupyter": {
     "outputs_hidden": true,
     "source_hidden": true
    },
    "tags": []
   },
   "outputs": [
    {
     "data": {
      "text/html": [
       "\n",
       "        <iframe\n",
       "            width=\"800\"\n",
       "            height=\"600\"\n",
       "            src=\"https://hub.gke2.mybinder.org//user/fmspatrickrosen-my-first-binder-xaaiuwpy/proxy/8000/docs#\"\n",
       "            frameborder=\"0\"\n",
       "            allowfullscreen\n",
       "            \n",
       "        ></iframe>\n",
       "        "
      ],
      "text/plain": [
       "<IPython.lib.display.IFrame at 0x7f1f42298350>"
      ]
     },
     "execution_count": 13,
     "metadata": {},
     "output_type": "execute_result"
    }
   ],
   "source": [
    "from IPython.display import IFrame\n",
    "IFrame(\"https://hub.gke2.mybinder.org/\" + base_url + \"proxy/8000/docs#\", width = 800, height = 600)\n",
    "#%%html\n",
    "#<iframe src=\"http://localhost:8000/docs#/default/get_person_people__person_id__get\" width=\"800\" height=\"600\"></iframe>"
   ]
  },
  {
   "cell_type": "code",
   "execution_count": 13,
   "id": "2c175bb0-30cb-4a9e-9393-384ef82f63eb",
   "metadata": {
    "collapsed": true,
    "jupyter": {
     "outputs_hidden": true,
     "source_hidden": true
    },
    "tags": []
   },
   "outputs": [
    {
     "name": "stdout",
     "output_type": "stream",
     "text": [
      "Status code: 422\n",
      "Response: {'detail': [{'loc': ['path', 'person_id'], 'msg': 'value is not a valid integer', 'type': 'type_error.integer'}]}\n"
     ]
    }
   ],
   "source": [
    "# Trying to set param as text with letters, when it MUST be int (unparseable)\n",
    "import requests\n",
    "\n",
    "r = requests.get(\"http://localhost:8000/people/123abc\")\n",
    "print(\"Status code:\", r.status_code)\n",
    "print(\"Response:\", r.json())"
   ]
  },
  {
   "cell_type": "code",
   "execution_count": 14,
   "id": "7d902cdd-1118-469c-986d-cbf66d81020c",
   "metadata": {
    "tags": []
   },
   "outputs": [
    {
     "name": "stdout",
     "output_type": "stream",
     "text": [
      "stopped\n"
     ]
    },
    {
     "name": "stderr",
     "output_type": "stream",
     "text": [
      "INFO:     Started server process [178]\n",
      "INFO:     Waiting for application startup.\n",
      "INFO:     Application startup complete.\n",
      "INFO:     Uvicorn running on http://127.0.0.1:8000 (Press CTRL+C to quit)\n"
     ]
    },
    {
     "name": "stdout",
     "output_type": "stream",
     "text": [
      "INFO:     ::ffff:10.0.14.4:0 - \"GET /user/fmspatrickrosen-my-first-binder-xaaiuwpy/proxy/8000/docs HTTP/1.1\" 200 OK\n",
      "INFO:     ::ffff:10.0.14.4:0 - \"GET /user/fmspatrickrosen-my-first-binder-xaaiuwpy/proxy/8000/openapi.json HTTP/1.1\" 200 OK\n"
     ]
    },
    {
     "name": "stderr",
     "output_type": "stream",
     "text": [
      "INFO:     Shutting down\n",
      "INFO:     Waiting for application shutdown.\n",
      "INFO:     Application shutdown complete.\n",
      "INFO:     Finished server process [178]\n"
     ]
    }
   ],
   "source": [
    "from typing import Optional\n",
    "\n",
    "@app.get(\"/people\")\n",
    "def list_people(surname: str, city: Optional[str] = None, limit: int = 20):\n",
    "    return {\n",
    "        \"filters\": {\n",
    "            \"surname\": surname,\n",
    "            \"city\": city\n",
    "        },\n",
    "        \"limit\": limit\n",
    "    }\n",
    "\n",
    "start_api()"
   ]
  },
  {
   "cell_type": "code",
   "execution_count": 15,
   "id": "fb8d4b08-731b-4359-815f-46f9c42ba55b",
   "metadata": {
    "collapsed": true,
    "jupyter": {
     "outputs_hidden": true,
     "source_hidden": true
    },
    "tags": []
   },
   "outputs": [
    {
     "data": {
      "text/html": [
       "\n",
       "        <iframe\n",
       "            width=\"800\"\n",
       "            height=\"600\"\n",
       "            src=\"https://hub.gke2.mybinder.org//user/fmspatrickrosen-my-first-binder-xaaiuwpy/proxy/8000/docs#\"\n",
       "            frameborder=\"0\"\n",
       "            allowfullscreen\n",
       "            \n",
       "        ></iframe>\n",
       "        "
      ],
      "text/plain": [
       "<IPython.lib.display.IFrame at 0x7f1f422d2650>"
      ]
     },
     "execution_count": 15,
     "metadata": {},
     "output_type": "execute_result"
    }
   ],
   "source": [
    "from IPython.display import IFrame\n",
    "IFrame(\"https://hub.gke2.mybinder.org/\" + base_url + \"proxy/8000/docs#\", width = 800, height = 600)\n",
    "#%%html\n",
    "#<iframe src=\"http://localhost:8000/docs#/default/list_people_people_get\" width=\"800\" height=\"600\"></iframe>"
   ]
  },
  {
   "cell_type": "code",
   "execution_count": 15,
   "id": "78f4f243-b0e0-4b5c-add7-2b6668b815cb",
   "metadata": {
    "collapsed": true,
    "jupyter": {
     "outputs_hidden": true,
     "source_hidden": true
    },
    "tags": []
   },
   "outputs": [
    {
     "name": "stdout",
     "output_type": "stream",
     "text": [
      "Status code: 200\n",
      "Response: {'filters': {'surname': 'foolanito', 'city': None}, 'limit': 20}\n"
     ]
    }
   ],
   "source": [
    "# Get with \"surname\" param only\n",
    "import requests\n",
    "\n",
    "r = requests.get(\"http://localhost:8000/people?surname=foolanito\")\n",
    "print(\"Status code:\", r.status_code)\n",
    "print(\"Response:\", r.json())"
   ]
  },
  {
   "cell_type": "code",
   "execution_count": 16,
   "id": "d7756c0a-5b90-474e-8f38-3dcd88236a7a",
   "metadata": {
    "collapsed": true,
    "jupyter": {
     "outputs_hidden": true,
     "source_hidden": true
    },
    "tags": []
   },
   "outputs": [
    {
     "name": "stdout",
     "output_type": "stream",
     "text": [
      "Status code: 422\n",
      "Response: {'detail': [{'loc': ['query', 'surname'], 'msg': 'field required', 'type': 'value_error.missing'}]}\n"
     ]
    }
   ],
   "source": [
    "# Get without params (\"surname\" is required)\n",
    "import requests\n",
    "\n",
    "r = requests.get(\"http://localhost:8000/people\")\n",
    "print(\"Status code:\", r.status_code)\n",
    "print(\"Response:\", r.json())"
   ]
  },
  {
   "cell_type": "code",
   "execution_count": 45,
   "id": "7792a7b9-0a1f-4a35-bf9c-b106b741c0ea",
   "metadata": {
    "collapsed": true,
    "jupyter": {
     "outputs_hidden": true
    },
    "tags": []
   },
   "outputs": [
    {
     "name": "stderr",
     "output_type": "stream",
     "text": [
      "INFO:     Started server process [317]\n",
      "INFO:     Waiting for application startup.\n",
      "INFO:     Application startup complete.\n",
      "INFO:     Uvicorn running on http://127.0.0.1:8000 (Press CTRL+C to quit)\n",
      "INFO:     Shutting down\n",
      "INFO:     Waiting for application shutdown.\n",
      "INFO:     Application shutdown complete.\n",
      "INFO:     Finished server process [317]\n"
     ]
    }
   ],
   "source": [
    "from pydantic import BaseModel\n",
    "from typing import Optional\n",
    "\n",
    "class Person(BaseModel):\n",
    "    name: str\n",
    "    age: Optional[int]\n",
    "    profession: str = \"Student\"\n",
    "\n",
    "@app.post(\"/people\")\n",
    "def create_person(person: Person):\n",
    "    return person.dict()\n",
    "\n",
    "start_api()"
   ]
  },
  {
   "cell_type": "code",
   "execution_count": 14,
   "id": "a0207c4d-d541-4d82-8d49-b78c6d135327",
   "metadata": {
    "collapsed": true,
    "jupyter": {
     "outputs_hidden": true,
     "source_hidden": true
    },
    "tags": []
   },
   "outputs": [
    {
     "data": {
      "text/html": [
       "<iframe src=\"http://localhost:8000/docs#/default/create_person_people_post\" width=\"800\" height=\"600\"></iframe>\n"
      ],
      "text/plain": [
       "<IPython.core.display.HTML object>"
      ]
     },
     "metadata": {},
     "output_type": "display_data"
    }
   ],
   "source": [
    "%%html\n",
    "<iframe src=\"http://localhost:8000/docs#/default/create_person_people_post\" width=\"800\" height=\"600\"></iframe>"
   ]
  },
  {
   "cell_type": "code",
   "execution_count": 37,
   "id": "ea9c3340-7d84-416f-a6a7-932b175465b3",
   "metadata": {
    "collapsed": true,
    "jupyter": {
     "outputs_hidden": true,
     "source_hidden": true
    },
    "tags": []
   },
   "outputs": [
    {
     "name": "stdout",
     "output_type": "stream",
     "text": [
      "Status code: 200\n",
      "Response: {'name': 'Paul', 'age': 20, 'profession': 'Student'}\n"
     ]
    }
   ],
   "source": [
    "import requests\n",
    "\n",
    "p = Person(name=\"Paul\", age=20)\n",
    "#print(p)\n",
    "#print(p.dict())\n",
    "\n",
    "r = requests.post(\"http://localhost:8000/people\", json=p.dict())\n",
    "print(\"Status code:\", r.status_code)\n",
    "print(\"Response:\", r.json())"
   ]
  },
  {
   "cell_type": "code",
   "execution_count": 17,
   "id": "df5b3009-5cb6-4c36-a30f-49a54401b98a",
   "metadata": {},
   "outputs": [
    {
     "name": "stdout",
     "output_type": "stream",
     "text": [
      "stopped\n"
     ]
    },
    {
     "name": "stderr",
     "output_type": "stream",
     "text": [
      "INFO:     Started server process [226]\n",
      "INFO:     Waiting for application startup.\n",
      "INFO:     Application startup complete.\n",
      "INFO:     Uvicorn running on http://127.0.0.1:8000 (Press CTRL+C to quit)\n"
     ]
    },
    {
     "name": "stdout",
     "output_type": "stream",
     "text": [
      "INFO:     ::ffff:10.0.14.4:0 - \"GET /user/fmspatrickrosen-my-first-binder-xaaiuwpy/proxy/8000/docs HTTP/1.1\" 200 OK\n",
      "INFO:     ::ffff:10.0.14.4:0 - \"GET /user/fmspatrickrosen-my-first-binder-xaaiuwpy/proxy/8000/openapi.json HTTP/1.1\" 500 Internal Server Error\n"
     ]
    },
    {
     "name": "stderr",
     "output_type": "stream",
     "text": [
      "ERROR:    Exception in ASGI application\n",
      "Traceback (most recent call last):\n",
      "  File \"/srv/conda/envs/notebook/lib/python3.7/site-packages/uvicorn/protocols/http/httptools_impl.py\", line 375, in run_asgi\n",
      "    result = await app(self.scope, self.receive, self.send)\n",
      "  File \"/srv/conda/envs/notebook/lib/python3.7/site-packages/uvicorn/middleware/proxy_headers.py\", line 75, in __call__\n",
      "    return await self.app(scope, receive, send)\n",
      "  File \"/srv/conda/envs/notebook/lib/python3.7/site-packages/fastapi/applications.py\", line 208, in __call__\n",
      "    await super().__call__(scope, receive, send)\n",
      "  File \"/srv/conda/envs/notebook/lib/python3.7/site-packages/starlette/applications.py\", line 112, in __call__\n",
      "    await self.middleware_stack(scope, receive, send)\n",
      "  File \"/srv/conda/envs/notebook/lib/python3.7/site-packages/starlette/middleware/errors.py\", line 181, in __call__\n",
      "    raise exc\n",
      "  File \"/srv/conda/envs/notebook/lib/python3.7/site-packages/starlette/middleware/errors.py\", line 159, in __call__\n",
      "    await self.app(scope, receive, _send)\n",
      "  File \"/srv/conda/envs/notebook/lib/python3.7/site-packages/starlette/exceptions.py\", line 82, in __call__\n",
      "    raise exc\n",
      "  File \"/srv/conda/envs/notebook/lib/python3.7/site-packages/starlette/exceptions.py\", line 71, in __call__\n",
      "    await self.app(scope, receive, sender)\n",
      "  File \"/srv/conda/envs/notebook/lib/python3.7/site-packages/starlette/routing.py\", line 656, in __call__\n",
      "    await route.handle(scope, receive, send)\n",
      "  File \"/srv/conda/envs/notebook/lib/python3.7/site-packages/starlette/routing.py\", line 259, in handle\n",
      "    await self.app(scope, receive, send)\n",
      "  File \"/srv/conda/envs/notebook/lib/python3.7/site-packages/starlette/routing.py\", line 61, in app\n",
      "    response = await func(request)\n",
      "  File \"/srv/conda/envs/notebook/lib/python3.7/site-packages/fastapi/applications.py\", line 161, in openapi\n",
      "    return JSONResponse(self.openapi())\n",
      "  File \"/srv/conda/envs/notebook/lib/python3.7/site-packages/fastapi/applications.py\", line 146, in openapi\n",
      "    servers=self.servers,\n",
      "  File \"/srv/conda/envs/notebook/lib/python3.7/site-packages/fastapi/openapi/utils.py\", line 388, in get_openapi\n",
      "    flat_models=flat_models, model_name_map=model_name_map\n",
      "  File \"/srv/conda/envs/notebook/lib/python3.7/site-packages/fastapi/utils.py\", line 28, in get_model_definitions\n",
      "    model_name = model_name_map[model]\n",
      "KeyError: <class '__main__.Captcha'>\n"
     ]
    },
    {
     "data": {
      "image/png": "[encoded data removed]",
      "text/plain": [
       "<PIL.PngImagePlugin.PngImageFile image mode=RGB size=100x30 at 0x7F1F64727850>"
      ]
     },
     "metadata": {},
     "output_type": "display_data"
    },
    {
     "data": {
      "image/png": "[encoded data removed]",
      "text/plain": [
       "<PIL.PngImagePlugin.PngImageFile image mode=RGB size=100x30 at 0x7F1F647F6790>"
      ]
     },
     "metadata": {},
     "output_type": "display_data"
    },
    {
     "name": "stdout",
     "output_type": "stream",
     "text": [
      "INFO:     127.0.0.1:58444 - \"POST /user/fmspatrickrosen-my-first-binder-xaaiuwpy/proxy/8000/captcha HTTP/1.1\" 200 OK\n",
      "INFO:     ::ffff:10.0.14.4:0 - \"GET /user/fmspatrickrosen-my-first-binder-xaaiuwpy/proxy/8000/docs HTTP/1.1\" 200 OK\n",
      "INFO:     ::ffff:10.0.14.4:0 - \"GET /user/fmspatrickrosen-my-first-binder-xaaiuwpy/proxy/8000/openapi.json HTTP/1.1\" 500 Internal Server Error\n"
     ]
    },
    {
     "name": "stderr",
     "output_type": "stream",
     "text": [
      "ERROR:    Exception in ASGI application\n",
      "Traceback (most recent call last):\n",
      "  File \"/srv/conda/envs/notebook/lib/python3.7/site-packages/uvicorn/protocols/http/httptools_impl.py\", line 375, in run_asgi\n",
      "    result = await app(self.scope, self.receive, self.send)\n",
      "  File \"/srv/conda/envs/notebook/lib/python3.7/site-packages/uvicorn/middleware/proxy_headers.py\", line 75, in __call__\n",
      "    return await self.app(scope, receive, send)\n",
      "  File \"/srv/conda/envs/notebook/lib/python3.7/site-packages/fastapi/applications.py\", line 208, in __call__\n",
      "    await super().__call__(scope, receive, send)\n",
      "  File \"/srv/conda/envs/notebook/lib/python3.7/site-packages/starlette/applications.py\", line 112, in __call__\n",
      "    await self.middleware_stack(scope, receive, send)\n",
      "  File \"/srv/conda/envs/notebook/lib/python3.7/site-packages/starlette/middleware/errors.py\", line 181, in __call__\n",
      "    raise exc\n",
      "  File \"/srv/conda/envs/notebook/lib/python3.7/site-packages/starlette/middleware/errors.py\", line 159, in __call__\n",
      "    await self.app(scope, receive, _send)\n",
      "  File \"/srv/conda/envs/notebook/lib/python3.7/site-packages/starlette/exceptions.py\", line 82, in __call__\n",
      "    raise exc\n",
      "  File \"/srv/conda/envs/notebook/lib/python3.7/site-packages/starlette/exceptions.py\", line 71, in __call__\n",
      "    await self.app(scope, receive, sender)\n",
      "  File \"/srv/conda/envs/notebook/lib/python3.7/site-packages/starlette/routing.py\", line 656, in __call__\n",
      "    await route.handle(scope, receive, send)\n",
      "  File \"/srv/conda/envs/notebook/lib/python3.7/site-packages/starlette/routing.py\", line 259, in handle\n",
      "    await self.app(scope, receive, send)\n",
      "  File \"/srv/conda/envs/notebook/lib/python3.7/site-packages/starlette/routing.py\", line 61, in app\n",
      "    response = await func(request)\n",
      "  File \"/srv/conda/envs/notebook/lib/python3.7/site-packages/fastapi/applications.py\", line 161, in openapi\n",
      "    return JSONResponse(self.openapi())\n",
      "  File \"/srv/conda/envs/notebook/lib/python3.7/site-packages/fastapi/applications.py\", line 146, in openapi\n",
      "    servers=self.servers,\n",
      "  File \"/srv/conda/envs/notebook/lib/python3.7/site-packages/fastapi/openapi/utils.py\", line 388, in get_openapi\n",
      "    flat_models=flat_models, model_name_map=model_name_map\n",
      "  File \"/srv/conda/envs/notebook/lib/python3.7/site-packages/fastapi/utils.py\", line 28, in get_model_definitions\n",
      "    model_name = model_name_map[model]\n",
      "KeyError: <class '__main__.Captcha'>\n"
     ]
    }
   ],
   "source": [
    "from pydantic import BaseModel\n",
    "from typing import List\n",
    "from typing import Optional\n",
    "from PIL import Image\n",
    "import io\n",
    "import base64\n",
    "\n",
    "class Captcha(BaseModel):\n",
    "    url: str\n",
    "    imagedata: List[str]\n",
    "\n",
    "@app.post(\"/captcha\")\n",
    "def solve_captcha(captcha: Captcha):\n",
    "    #print(base64.b64decode(captcha.imagedata))\n",
    "    for s in captcha.imagedata :\n",
    "        im = Image.open(io.BytesIO(base64.b64decode(s)))\n",
    "        display(im)\n",
    "    return {\"Hello\": \"World\"}\n",
    "\n",
    "start_api()"
   ]
  },
  {
   "cell_type": "code",
   "execution_count": 20,
   "id": "9d659553-0109-443b-a2c5-a2554394aabd",
   "metadata": {},
   "outputs": [
    {
     "data": {
      "text/html": [
       "\n",
       "        <iframe\n",
       "            width=\"800\"\n",
       "            height=\"600\"\n",
       "            src=\"https://hub.gke2.mybinder.org//user/fmspatrickrosen-my-first-binder-xaaiuwpy/proxy/8000/docs#\"\n",
       "            frameborder=\"0\"\n",
       "            allowfullscreen\n",
       "            \n",
       "        ></iframe>\n",
       "        "
      ],
      "text/plain": [
       "<IPython.lib.display.IFrame at 0x7f1f42153810>"
      ]
     },
     "execution_count": 20,
     "metadata": {},
     "output_type": "execute_result"
    }
   ],
   "source": [
    "from IPython.display import IFrame\n",
    "IFrame(\"https://hub.gke2.mybinder.org/\" + base_url + \"proxy/8000/docs#\", width = 800, height = 600)"
   ]
  },
  {
   "cell_type": "code",
   "execution_count": 19,
   "id": "d3a411a5-d551-468a-abf3-ea3881a6f344",
   "metadata": {},
   "outputs": [
    {
     "data": {
      "image/png": "[encoded data removed]",
      "text/plain": [
       "<PIL.Image.Image image mode=RGB size=100x30 at 0x7F1F4222C890>"
      ]
     },
     "metadata": {},
     "output_type": "display_data"
    },
    {
     "name": "stdout",
     "output_type": "stream",
     "text": [
      "Status code: 200\n",
      "Response: {'Hello': 'World'}\n"
     ]
    }
   ],
   "source": [
    "import requests\n",
    "from pydantic import BaseModel\n",
    "from typing import List\n",
    "from typing import Optional\n",
    "from PIL import Image\n",
    "import io\n",
    "import base64\n",
    "\n",
    "class Captcha(BaseModel):\n",
    "    url: str\n",
    "    imagedata: List[str]\n",
    "\n",
    "image = Image.new( mode = \"RGB\", size = (100, 30), color = (209, 123, 193) )\n",
    "display(image)\n",
    "output = io.BytesIO()\n",
    "image.save(output, format=\"PNG\")\n",
    "c = Captcha(url=\"https:123.com\", imagedata=[base64.b64encode(output.getvalue()).decode('ascii'),base64.b64encode(output.getvalue()).decode('ascii')])\n",
    "#print(c)\n",
    "#print(c.dict())\n",
    "\n",
    "r = requests.post(\"http://localhost:8000/captcha\", json=c.dict())\n",
    "print(\"Status code:\", r.status_code)\n",
    "print(\"Response:\", r.json())"
   ]
  },
  {
   "cell_type": "code",
   "execution_count": null,
   "id": "241306bc-5b2b-4723-83d2-8dc15693a4d8",
   "metadata": {},
   "outputs": [],
   "source": []
  }
 ],
 "metadata": {
  "kernelspec": {
   "display_name": "Python 3 (ipykernel)",
   "language": "python",
   "name": "python3"
  },
  "language_info": {
   "codemirror_mode": {
    "name": "ipython",
    "version": 3
   },
   "file_extension": ".py",
   "mimetype": "text/x-python",
   "name": "python",
   "nbconvert_exporter": "python",
   "pygments_lexer": "ipython3",
   "version": "3.7.12"
  }
 },
 "nbformat": 4,
 "nbformat_minor": 5
}
