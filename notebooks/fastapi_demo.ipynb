{
 "cells": [
  {
   "cell_type": "markdown",
   "id": "7436db7e-b559-44c9-a953-71a56a925bef",
   "metadata": {},
   "source": [
    "# see the demo notebook here\n",
    "https://github.com/David-Lor/FastAPI_LightningTalk-Notebook/blob/master/FastAPI.ipynb\n",
    "\n",
    "https://fastapi.tiangolo.com/tutorial/body/"
   ]
  },
  {
   "cell_type": "code",
   "execution_count": 11,
   "id": "4268cee0-f2d4-4ad0-8c9a-462398223352",
   "metadata": {},
   "outputs": [],
   "source": [
    "# Basic import of FastAPI and function to start running the API with Uvicorn\n",
    "\n",
    "import uvicorn\n",
    "from fastapi import FastAPI\n",
    "\n",
    "app = FastAPI(root_path=\"/user/fmspatrickrosen-my-first-binder-nefdyo9h/proxy/8000\")\n",
    "\n",
    "def run():\n",
    "    uvicorn.run(app)"
   ]
  },
  {
   "cell_type": "code",
   "execution_count": 12,
   "id": "0bf6bd57-85dc-41f5-9519-a7df757df87f",
   "metadata": {},
   "outputs": [],
   "source": [
    "# Code in this cell is just for (re)starting the API on a Process, and other compatibility stuff with Jupyter cells.\n",
    "# Just ignore it!\n",
    "\n",
    "from multiprocessing import Process\n",
    "from wait4it import wait_for\n",
    "\n",
    "_api_process = None\n",
    "\n",
    "def stop_api():\n",
    "    \"\"\"Stop the API if running; Start the API; Wait until API (port) is available (reachable)\"\"\"\n",
    "    global _api_process\n",
    "    if _api_process:\n",
    "        _api_process.terminate()\n",
    "        _api_process.join()\n",
    "    print(\"stopped\")\n",
    "    \n",
    "def start_api():\n",
    "    \"\"\"Stop the API if running; Start the API; Wait until API (port) is available (reachable)\"\"\"\n",
    "    global _api_process\n",
    "    if _api_process:\n",
    "        _api_process.terminate()\n",
    "        _api_process.join()\n",
    "    \n",
    "    _api_process = Process(target=run, daemon=True)\n",
    "    _api_process.start()\n",
    "    wait_for(port=8000)\n",
    "\n",
    "def delete_route(method: str, path: str):\n",
    "    \"\"\"Delete the given route from the API. This must be called on cells that re-define a route\"\"\"\n",
    "    [app.routes.remove(route) for route in app.routes if method in route.methods and route.path == path]"
   ]
  },
  {
   "cell_type": "code",
   "execution_count": 13,
   "id": "256e554f-5aca-4474-bb71-9a5a7d253df7",
   "metadata": {},
   "outputs": [
    {
     "name": "stdout",
     "output_type": "stream",
     "text": [
      "stopped\n"
     ]
    }
   ],
   "source": [
    "stop_api()"
   ]
  },
  {
   "cell_type": "code",
   "execution_count": 14,
   "id": "e8fb694c-5ce8-46a3-8f2e-c8b923c2533c",
   "metadata": {
    "tags": []
   },
   "outputs": [
    {
     "name": "stderr",
     "output_type": "stream",
     "text": [
      "INFO:     Started server process [252]\n",
      "INFO:     Waiting for application startup.\n",
      "INFO:     Application startup complete.\n",
      "INFO:     Uvicorn running on http://127.0.0.1:8000 (Press CTRL+C to quit)\n"
     ]
    },
    {
     "name": "stdout",
     "output_type": "stream",
     "text": [
      "INFO:     ::ffff:10.0.14.4:0 - \"GET /user/fmspatrickrosen-my-first-binder-nefdyo9h/proxy/8000/docs HTTP/1.1\" 200 OK\n",
      "INFO:     ::ffff:10.0.14.4:0 - \"GET /user/fmspatrickrosen-my-first-binder-nefdyo9h/proxy/8000/openapi.json HTTP/1.1\" 200 OK\n",
      "INFO:     ::ffff:10.0.14.4:0 - \"GET /user/fmspatrickrosen-my-first-binder-nefdyo9h/proxy/8000/docs HTTP/1.1\" 200 OK\n",
      "INFO:     ::ffff:10.0.14.4:0 - \"GET /user/fmspatrickrosen-my-first-binder-nefdyo9h/proxy/8000/openapi.json HTTP/1.1\" 200 OK\n",
      "INFO:     ::ffff:10.0.14.4:0 - \"GET /user/fmspatrickrosen-my-first-binder-nefdyo9h/proxy/8000/docs HTTP/1.1\" 200 OK\n",
      "INFO:     ::ffff:10.0.14.4:0 - \"GET /user/fmspatrickrosen-my-first-binder-nefdyo9h/proxy/8000/openapi.json HTTP/1.1\" 200 OK\n",
      "INFO:     ::ffff:10.0.14.4:0 - \"GET /user/fmspatrickrosen-my-first-binder-nefdyo9h/proxy/8000/docs HTTP/1.1\" 200 OK\n",
      "INFO:     ::ffff:10.0.14.4:0 - \"GET /user/fmspatrickrosen-my-first-binder-nefdyo9h/proxy/8000/openapi.json HTTP/1.1\" 200 OK\n",
      "INFO:     ::ffff:10.0.14.4:0 - \"GET /user/fmspatrickrosen-my-first-binder-nefdyo9h/proxy/8000/docs HTTP/1.1\" 200 OK\n",
      "INFO:     ::ffff:10.0.14.4:0 - \"GET /user/fmspatrickrosen-my-first-binder-nefdyo9h/proxy/8000/openapi.json HTTP/1.1\" 200 OK\n",
      "INFO:     ::ffff:10.0.14.4:0 - \"GET /user/fmspatrickrosen-my-first-binder-nefdyo9h/proxy/8000/ HTTP/1.1\" 200 OK\n"
     ]
    }
   ],
   "source": [
    "@app.get(\"/\")\n",
    "def get_root():\n",
    "    return {\"Hello\": \"World\"}\n",
    "\n",
    "start_api()"
   ]
  },
  {
   "cell_type": "code",
   "execution_count": 19,
   "id": "56ce81ba-794b-4aab-ad9e-54c4c5c1ca4b",
   "metadata": {
    "tags": []
   },
   "outputs": [
    {
     "data": {
      "text/html": [
       "<!--iframe src=\"http://localhost:8000/docs#/default/get_root__get\" width=\"800\" height=\"600\"></iframe-->\n",
       "<iframe src=\"https://hub.gke2.mybinder.org/user/fmspatrickrosen-my-first-binder-nefdyo9h/proxy/8000/docs#\" width=\"800\" height=\"600\"></iframe>\n"
      ],
      "text/plain": [
       "<IPython.core.display.HTML object>"
      ]
     },
     "metadata": {},
     "output_type": "display_data"
    }
   ],
   "source": [
    "%%html\n",
    "<!--iframe src=\"http://localhost:8000/docs#/default/get_root__get\" width=\"800\" height=\"600\"></iframe-->\n",
    "<iframe src=\"https://hub.gke2.mybinder.org/user/fmspatrickrosen-my-first-binder-nefdyo9h/proxy/8000/docs#\" width=\"800\" height=\"600\"></iframe>\n"
   ]
  },
  {
   "cell_type": "code",
   "execution_count": 17,
   "id": "d24840b1-bd28-42dd-96a6-643be35f00c6",
   "metadata": {
    "collapsed": true,
    "jupyter": {
     "outputs_hidden": true
    },
    "tags": []
   },
   "outputs": [
    {
     "name": "stderr",
     "output_type": "stream",
     "text": [
      "INFO:     Started server process [182]\n",
      "INFO:     Waiting for application startup.\n",
      "INFO:     Application startup complete.\n",
      "INFO:     Uvicorn running on http://127.0.0.1:8000 (Press CTRL+C to quit)\n",
      "INFO:     Shutting down\n",
      "INFO:     Waiting for application shutdown.\n",
      "INFO:     Application shutdown complete.\n",
      "INFO:     Finished server process [182]\n"
     ]
    }
   ],
   "source": [
    "@app.get(\"/people/{person_id}\")\n",
    "def get_person(person_id: int):\n",
    "    return {\"person_id\": person_id}\n",
    "\n",
    "start_api()"
   ]
  },
  {
   "cell_type": "code",
   "execution_count": 19,
   "id": "a4e166d4-f874-4370-8e3a-26a4f706c6d9",
   "metadata": {
    "collapsed": true,
    "jupyter": {
     "outputs_hidden": true
    },
    "tags": []
   },
   "outputs": [
    {
     "data": {
      "text/html": [
       "<iframe src=\"http://localhost:8000/docs#/default/get_person_people__person_id__get\" width=\"800\" height=\"600\"></iframe>\n"
      ],
      "text/plain": [
       "<IPython.core.display.HTML object>"
      ]
     },
     "metadata": {},
     "output_type": "display_data"
    }
   ],
   "source": [
    "%%html\n",
    "<iframe src=\"http://localhost:8000/docs#/default/get_person_people__person_id__get\" width=\"800\" height=\"600\"></iframe>"
   ]
  },
  {
   "cell_type": "code",
   "execution_count": 13,
   "id": "2c175bb0-30cb-4a9e-9393-384ef82f63eb",
   "metadata": {
    "collapsed": true,
    "jupyter": {
     "outputs_hidden": true,
     "source_hidden": true
    },
    "tags": []
   },
   "outputs": [
    {
     "name": "stdout",
     "output_type": "stream",
     "text": [
      "Status code: 422\n",
      "Response: {'detail': [{'loc': ['path', 'person_id'], 'msg': 'value is not a valid integer', 'type': 'type_error.integer'}]}\n"
     ]
    }
   ],
   "source": [
    "# Trying to set param as text with letters, when it MUST be int (unparseable)\n",
    "import requests\n",
    "\n",
    "r = requests.get(\"http://localhost:8000/people/123abc\")\n",
    "print(\"Status code:\", r.status_code)\n",
    "print(\"Response:\", r.json())"
   ]
  },
  {
   "cell_type": "code",
   "execution_count": 14,
   "id": "7d902cdd-1118-469c-986d-cbf66d81020c",
   "metadata": {
    "collapsed": true,
    "jupyter": {
     "outputs_hidden": true
    },
    "tags": []
   },
   "outputs": [
    {
     "name": "stderr",
     "output_type": "stream",
     "text": [
      "INFO:     Started server process [156]\n",
      "INFO:     Waiting for application startup.\n",
      "INFO:     Application startup complete.\n",
      "INFO:     Uvicorn running on http://127.0.0.1:8000 (Press CTRL+C to quit)\n"
     ]
    },
    {
     "name": "stdout",
     "output_type": "stream",
     "text": [
      "INFO:     127.0.0.1:59562 - \"GET /people?surname=foolanito HTTP/1.1\" 200 OK\n",
      "INFO:     127.0.0.1:59756 - \"GET /people HTTP/1.1\" 422 Unprocessable Entity\n"
     ]
    },
    {
     "name": "stderr",
     "output_type": "stream",
     "text": [
      "INFO:     Shutting down\n",
      "INFO:     Waiting for application shutdown.\n",
      "INFO:     Application shutdown complete.\n",
      "INFO:     Finished server process [156]\n"
     ]
    }
   ],
   "source": [
    "from typing import Optional\n",
    "\n",
    "@app.get(\"/people\")\n",
    "def list_people(surname: str, city: Optional[str] = None, limit: int = 20):\n",
    "    return {\n",
    "        \"filters\": {\n",
    "            \"surname\": surname,\n",
    "            \"city\": city\n",
    "        },\n",
    "        \"limit\": limit\n",
    "    }\n",
    "\n",
    "start_api()"
   ]
  },
  {
   "cell_type": "code",
   "execution_count": 10,
   "id": "fb8d4b08-731b-4359-815f-46f9c42ba55b",
   "metadata": {
    "collapsed": true,
    "jupyter": {
     "outputs_hidden": true,
     "source_hidden": true
    },
    "tags": []
   },
   "outputs": [
    {
     "data": {
      "text/html": [
       "<iframe src=\"http://localhost:8000/docs#/default/list_people_people_get\" width=\"800\" height=\"600\"></iframe>\n"
      ],
      "text/plain": [
       "<IPython.core.display.HTML object>"
      ]
     },
     "metadata": {},
     "output_type": "display_data"
    }
   ],
   "source": [
    "%%html\n",
    "<iframe src=\"http://localhost:8000/docs#/default/list_people_people_get\" width=\"800\" height=\"600\"></iframe>"
   ]
  },
  {
   "cell_type": "code",
   "execution_count": 15,
   "id": "78f4f243-b0e0-4b5c-add7-2b6668b815cb",
   "metadata": {
    "collapsed": true,
    "jupyter": {
     "outputs_hidden": true,
     "source_hidden": true
    },
    "tags": []
   },
   "outputs": [
    {
     "name": "stdout",
     "output_type": "stream",
     "text": [
      "Status code: 200\n",
      "Response: {'filters': {'surname': 'foolanito', 'city': None}, 'limit': 20}\n"
     ]
    }
   ],
   "source": [
    "# Get with \"surname\" param only\n",
    "import requests\n",
    "\n",
    "r = requests.get(\"http://localhost:8000/people?surname=foolanito\")\n",
    "print(\"Status code:\", r.status_code)\n",
    "print(\"Response:\", r.json())"
   ]
  },
  {
   "cell_type": "code",
   "execution_count": 16,
   "id": "d7756c0a-5b90-474e-8f38-3dcd88236a7a",
   "metadata": {
    "collapsed": true,
    "jupyter": {
     "outputs_hidden": true,
     "source_hidden": true
    },
    "tags": []
   },
   "outputs": [
    {
     "name": "stdout",
     "output_type": "stream",
     "text": [
      "Status code: 422\n",
      "Response: {'detail': [{'loc': ['query', 'surname'], 'msg': 'field required', 'type': 'value_error.missing'}]}\n"
     ]
    }
   ],
   "source": [
    "# Get without params (\"surname\" is required)\n",
    "import requests\n",
    "\n",
    "r = requests.get(\"http://localhost:8000/people\")\n",
    "print(\"Status code:\", r.status_code)\n",
    "print(\"Response:\", r.json())"
   ]
  },
  {
   "cell_type": "code",
   "execution_count": 45,
   "id": "7792a7b9-0a1f-4a35-bf9c-b106b741c0ea",
   "metadata": {
    "collapsed": true,
    "jupyter": {
     "outputs_hidden": true
    },
    "tags": []
   },
   "outputs": [
    {
     "name": "stderr",
     "output_type": "stream",
     "text": [
      "INFO:     Started server process [317]\n",
      "INFO:     Waiting for application startup.\n",
      "INFO:     Application startup complete.\n",
      "INFO:     Uvicorn running on http://127.0.0.1:8000 (Press CTRL+C to quit)\n",
      "INFO:     Shutting down\n",
      "INFO:     Waiting for application shutdown.\n",
      "INFO:     Application shutdown complete.\n",
      "INFO:     Finished server process [317]\n"
     ]
    }
   ],
   "source": [
    "from pydantic import BaseModel\n",
    "from typing import Optional\n",
    "\n",
    "class Person(BaseModel):\n",
    "    name: str\n",
    "    age: Optional[int]\n",
    "    profession: str = \"Student\"\n",
    "\n",
    "@app.post(\"/people\")\n",
    "def create_person(person: Person):\n",
    "    return person.dict()\n",
    "\n",
    "start_api()"
   ]
  },
  {
   "cell_type": "code",
   "execution_count": 14,
   "id": "a0207c4d-d541-4d82-8d49-b78c6d135327",
   "metadata": {
    "collapsed": true,
    "jupyter": {
     "outputs_hidden": true,
     "source_hidden": true
    },
    "tags": []
   },
   "outputs": [
    {
     "data": {
      "text/html": [
       "<iframe src=\"http://localhost:8000/docs#/default/create_person_people_post\" width=\"800\" height=\"600\"></iframe>\n"
      ],
      "text/plain": [
       "<IPython.core.display.HTML object>"
      ]
     },
     "metadata": {},
     "output_type": "display_data"
    }
   ],
   "source": [
    "%%html\n",
    "<iframe src=\"http://localhost:8000/docs#/default/create_person_people_post\" width=\"800\" height=\"600\"></iframe>"
   ]
  },
  {
   "cell_type": "code",
   "execution_count": 37,
   "id": "ea9c3340-7d84-416f-a6a7-932b175465b3",
   "metadata": {
    "collapsed": true,
    "jupyter": {
     "outputs_hidden": true,
     "source_hidden": true
    },
    "tags": []
   },
   "outputs": [
    {
     "name": "stdout",
     "output_type": "stream",
     "text": [
      "Status code: 200\n",
      "Response: {'name': 'Paul', 'age': 20, 'profession': 'Student'}\n"
     ]
    }
   ],
   "source": [
    "import requests\n",
    "\n",
    "p = Person(name=\"Paul\", age=20)\n",
    "#print(p)\n",
    "#print(p.dict())\n",
    "\n",
    "r = requests.post(\"http://localhost:8000/people\", json=p.dict())\n",
    "print(\"Status code:\", r.status_code)\n",
    "print(\"Response:\", r.json())"
   ]
  },
  {
   "cell_type": "code",
   "execution_count": 5,
   "id": "df5b3009-5cb6-4c36-a30f-49a54401b98a",
   "metadata": {},
   "outputs": [
    {
     "name": "stderr",
     "output_type": "stream",
     "text": [
      "INFO:     Started server process [253]\n",
      "INFO:     Waiting for application startup.\n",
      "INFO:     Application startup complete.\n",
      "INFO:     Uvicorn running on http://127.0.0.1:8000 (Press CTRL+C to quit)\n"
     ]
    },
    {
     "data": {
      "image/png": "[encoded data removed]",
      "text/plain": [
       "<PIL.GifImagePlugin.GifImageFile image mode=P size=100x30 at 0x7F62CD0C1A50>"
      ]
     },
     "metadata": {},
     "output_type": "display_data"
    },
    {
     "data": {
      "image/png": "[encoded data removed]",
      "text/plain": [
       "<PIL.GifImagePlugin.GifImageFile image mode=P size=100x30 at 0x7F62B70ACAD0>"
      ]
     },
     "metadata": {},
     "output_type": "display_data"
    },
    {
     "data": {
      "image/png": "[encoded data removed]",
      "text/plain": [
       "<PIL.GifImagePlugin.GifImageFile image mode=P size=100x30 at 0x7F62CD0C1B90>"
      ]
     },
     "metadata": {},
     "output_type": "display_data"
    },
    {
     "data": {
      "image/png": "[encoded data removed]",
      "text/plain": [
       "<PIL.GifImagePlugin.GifImageFile image mode=P size=100x30 at 0x7F62CD0C1A50>"
      ]
     },
     "metadata": {},
     "output_type": "display_data"
    },
    {
     "data": {
      "image/png": "[encoded data removed]",
      "text/plain": [
       "<PIL.GifImagePlugin.GifImageFile image mode=P size=100x30 at 0x7F62B70ACAD0>"
      ]
     },
     "metadata": {},
     "output_type": "display_data"
    },
    {
     "data": {
      "image/png": "[encoded data removed]",
      "text/plain": [
       "<PIL.GifImagePlugin.GifImageFile image mode=P size=100x30 at 0x7F62CD0C1B90>"
      ]
     },
     "metadata": {},
     "output_type": "display_data"
    },
    {
     "name": "stdout",
     "output_type": "stream",
     "text": [
      "INFO:     127.0.0.1:54184 - \"POST /captcha HTTP/1.1\" 200 OK\n"
     ]
    }
   ],
   "source": [
    "from pydantic import BaseModel\n",
    "from typing import List\n",
    "from typing import Optional\n",
    "from PIL import Image\n",
    "import io\n",
    "import base64\n",
    "\n",
    "class Captcha(BaseModel):\n",
    "    url: str\n",
    "    imagedata: List[str]\n",
    "\n",
    "@app.post(\"/captcha\")\n",
    "def solve_captcha(captcha: Captcha):\n",
    "    #print(base64.b64decode(captcha.imagedata))\n",
    "    for s in captcha.imagedata :\n",
    "        im = Image.open(io.BytesIO(base64.b64decode(s)))\n",
    "        display(im)\n",
    "    return {\"Hello\": \"World\"}\n",
    "\n",
    "start_api()"
   ]
  },
  {
   "cell_type": "code",
   "execution_count": 4,
   "id": "d3a411a5-d551-468a-abf3-ea3881a6f344",
   "metadata": {},
   "outputs": [
    {
     "data": {
      "image/png": "[encoded data removed]",
      "text/plain": [
       "<PIL.Image.Image image mode=RGB size=100x30 at 0x7F62B742FD50>"
      ]
     },
     "metadata": {},
     "output_type": "display_data"
    },
    {
     "name": "stdout",
     "output_type": "stream",
     "text": [
      "Status code: 200\n",
      "Response: {'Hello': 'World'}\n"
     ]
    }
   ],
   "source": [
    "import requests\n",
    "from pydantic import BaseModel\n",
    "from typing import List\n",
    "from typing import Optional\n",
    "from PIL import Image\n",
    "import io\n",
    "import base64\n",
    "\n",
    "class Captcha(BaseModel):\n",
    "    url: str\n",
    "    imagedata: List[str]\n",
    "\n",
    "image = Image.new( mode = \"RGB\", size = (100, 30), color = (209, 123, 193) )\n",
    "display(image)\n",
    "output = io.BytesIO()\n",
    "image.save(output, format=\"PNG\")\n",
    "c = Captcha(url=\"https:123.com\", imagedata=[base64.b64encode(output.getvalue()).decode('ascii'),base64.b64encode(output.getvalue()).decode('ascii')])\n",
    "#print(c)\n",
    "#print(c.dict())\n",
    "\n",
    "r = requests.post(\"http://localhost:8000/captcha\", json=c.dict())\n",
    "print(\"Status code:\", r.status_code)\n",
    "print(\"Response:\", r.json())"
   ]
  },
  {
   "cell_type": "code",
   "execution_count": null,
   "id": "241306bc-5b2b-4723-83d2-8dc15693a4d8",
   "metadata": {},
   "outputs": [],
   "source": []
  }
 ],
 "metadata": {
  "kernelspec": {
   "display_name": "Python 3 (ipykernel)",
   "language": "python",
   "name": "python3"
  },
  "language_info": {
   "codemirror_mode": {
    "name": "ipython",
    "version": 3
   },
   "file_extension": ".py",
   "mimetype": "text/x-python",
   "name": "python",
   "nbconvert_exporter": "python",
   "pygments_lexer": "ipython3",
   "version": "3.7.12"
  }
 },
 "nbformat": 4,
 "nbformat_minor": 5
}
