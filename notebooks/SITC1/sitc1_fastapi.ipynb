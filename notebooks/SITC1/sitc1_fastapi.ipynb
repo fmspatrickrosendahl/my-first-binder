{
 "cells": [
  {
   "cell_type": "code",
   "execution_count": 25,
   "id": "5e8dc65b-ed1f-45ea-aebd-531e3e6ade16",
   "metadata": {},
   "outputs": [],
   "source": [
    "import pickle\n",
    "import numpy as np\n",
    "\n",
    "class CaptchaSolver:\n",
    "    rects = []\n",
    "    kmeans1 = None\n",
    "    groups1 = None\n",
    "    kmeans2 = None\n",
    "    groups2 = None\n",
    "    kmeans3 = None\n",
    "    groups3 = None\n",
    "    kmeans4 = None\n",
    "    groups4 = None\n",
    "    def predict( self, im ):\n",
    "        display(im)\n",
    "        def predictdigit( di, kmeans, groups ) :\n",
    "            display(di)\n",
    "            return groups[kmeans.predict( [np.array(di.convert(\"L\").getdata()) ] )[0]]\n",
    "        result =  predictdigit( im.copy().crop(self.rects[0]), self.kmeans1, self.groups1 )\n",
    "        result += predictdigit( im.copy().crop(self.rects[1]), self.kmeans2, self.groups2 )\n",
    "        result += predictdigit( im.copy().crop(self.rects[2]), self.kmeans3, self.groups3 )\n",
    "        result += predictdigit( im.copy().crop(self.rects[3]), self.kmeans4, self.groups4 )\n",
    "        return result\n",
    "\n",
    "solver = pickle.load( open( \"solver.p\", \"rb\" ) )"
   ]
  },
  {
   "cell_type": "code",
   "execution_count": 26,
   "id": "b9c2227e-ff82-4b72-bbeb-5cb2e5ffcc9f",
   "metadata": {},
   "outputs": [
    {
     "name": "stdout",
     "output_type": "stream",
     "text": [
      "images : 298\n"
     ]
    }
   ],
   "source": [
    "import os\n",
    "from PIL import Image\n",
    "\n",
    "dirname = \"data\"\n",
    "ims = []\n",
    "filenames = []\n",
    "for filename in os.listdir(dirname) :\n",
    "    filenames.append(filename)\n",
    "    fullname = os.path.join(dirname, filename)\n",
    "    #print(fullname)\n",
    "    im = Image.open(fullname)\n",
    "    #display(im)\n",
    "    ims.append(im)\n",
    "print(\"images : \" + str(len(ims)))"
   ]
  },
  {
   "cell_type": "code",
   "execution_count": 27,
   "id": "0e038590-839b-4ef8-8ee7-dd467daa1b88",
   "metadata": {},
   "outputs": [
    {
     "data": {
      "image/png": "[encoded data removed]",
      "text/plain": [
       "<PIL.JpegImagePlugin.JpegImageFile image mode=RGB size=100x40 at 0x7FB35BFD9250>"
      ]
     },
     "metadata": {},
     "output_type": "display_data"
    },
    {
     "data": {
      "image/png": "[encoded data removed]",
      "text/plain": [
       "<PIL.Image.Image image mode=RGB size=14x23 at 0x7FB338FF1250>"
      ]
     },
     "metadata": {},
     "output_type": "display_data"
    },
    {
     "data": {
      "image/png": "[encoded data removed]",
      "text/plain": [
       "<PIL.Image.Image image mode=RGB size=15x23 at 0x7FB337AAF150>"
      ]
     },
     "metadata": {},
     "output_type": "display_data"
    },
    {
     "data": {
      "image/png": "[encoded data removed]",
      "text/plain": [
       "<PIL.Image.Image image mode=RGB size=14x23 at 0x7FB338FF12D0>"
      ]
     },
     "metadata": {},
     "output_type": "display_data"
    },
    {
     "data": {
      "image/png": "[encoded data removed]",
      "text/plain": [
       "<PIL.Image.Image image mode=RGB size=15x22 at 0x7FB338243150>"
      ]
     },
     "metadata": {},
     "output_type": "display_data"
    },
    {
     "data": {
      "text/plain": [
       "'2064'"
      ]
     },
     "execution_count": 27,
     "metadata": {},
     "output_type": "execute_result"
    }
   ],
   "source": [
    "solver.predict( ims[-1] )\n"
   ]
  },
  {
   "cell_type": "code",
   "execution_count": null,
   "id": "170ff168-8a00-40be-ad4d-933e687d319d",
   "metadata": {},
   "outputs": [],
   "source": []
  }
 ],
 "metadata": {
  "kernelspec": {
   "display_name": "Python 3 (ipykernel)",
   "language": "python",
   "name": "python3"
  },
  "language_info": {
   "codemirror_mode": {
    "name": "ipython",
    "version": 3
   },
   "file_extension": ".py",
   "mimetype": "text/x-python",
   "name": "python",
   "nbconvert_exporter": "python",
   "pygments_lexer": "ipython3",
   "version": "3.7.12"
  }
 },
 "nbformat": 4,
 "nbformat_minor": 5
}
