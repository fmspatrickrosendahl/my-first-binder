{
 "cells": [
  {
   "cell_type": "code",
   "execution_count": 1,
   "id": "5e8dc65b-ed1f-45ea-aebd-531e3e6ade16",
   "metadata": {},
   "outputs": [],
   "source": [
    "import pickle\n",
    "import numpy as np\n",
    "\n",
    "class CaptchaSolver:\n",
    "    rects = []\n",
    "    kmeans1 = None\n",
    "    groups1 = None\n",
    "    kmeans2 = None\n",
    "    groups2 = None\n",
    "    kmeans3 = None\n",
    "    groups3 = None\n",
    "    kmeans4 = None\n",
    "    groups4 = None\n",
    "    def predict( self, im ):\n",
    "        display(im)\n",
    "        def predictdigit( di, kmeans, groups ) :\n",
    "            display(di)\n",
    "            return groups[kmeans.predict( [np.array(di.convert(\"L\").getdata()) ] )[0]]\n",
    "        result =  predictdigit( im.copy().crop(self.rects[0]), self.kmeans1, self.groups1 )\n",
    "        result += predictdigit( im.copy().crop(self.rects[1]), self.kmeans2, self.groups2 )\n",
    "        result += predictdigit( im.copy().crop(self.rects[2]), self.kmeans3, self.groups3 )\n",
    "        result += predictdigit( im.copy().crop(self.rects[3]), self.kmeans4, self.groups4 )\n",
    "        return result\n",
    "\n",
    "solver = pickle.load( open( \"solver.p\", \"rb\" ) )"
   ]
  },
  {
   "cell_type": "code",
   "execution_count": 2,
   "id": "b9c2227e-ff82-4b72-bbeb-5cb2e5ffcc9f",
   "metadata": {},
   "outputs": [
    {
     "name": "stdout",
     "output_type": "stream",
     "text": [
      "images : 298\n"
     ]
    }
   ],
   "source": [
    "import os\n",
    "from PIL import Image\n",
    "\n",
    "dirname = \"data\"\n",
    "ims = []\n",
    "filenames = []\n",
    "for filename in os.listdir(dirname) :\n",
    "    filenames.append(filename)\n",
    "    fullname = os.path.join(dirname, filename)\n",
    "    #print(fullname)\n",
    "    im = Image.open(fullname)\n",
    "    #display(im)\n",
    "    ims.append(im)\n",
    "print(\"images : \" + str(len(ims)))"
   ]
  },
  {
   "cell_type": "code",
   "execution_count": 3,
   "id": "0e038590-839b-4ef8-8ee7-dd467daa1b88",
   "metadata": {},
   "outputs": [
    {
     "data": {
      "image/png": "[encoded data removed]",
      "text/plain": [
       "<PIL.JpegImagePlugin.JpegImageFile image mode=RGB size=100x40 at 0x7F93F4D23290>"
      ]
     },
     "metadata": {},
     "output_type": "display_data"
    },
    {
     "data": {
      "image/png": "[encoded data removed]",
      "text/plain": [
       "<PIL.Image.Image image mode=RGB size=14x23 at 0x7F94406A6FD0>"
      ]
     },
     "metadata": {},
     "output_type": "display_data"
    },
    {
     "data": {
      "image/png": "[encoded data removed]",
      "text/plain": [
       "<PIL.Image.Image image mode=RGB size=15x23 at 0x7F93F540BC90>"
      ]
     },
     "metadata": {},
     "output_type": "display_data"
    },
    {
     "data": {
      "image/png": "[encoded data removed]",
      "text/plain": [
       "<PIL.Image.Image image mode=RGB size=14x23 at 0x7F94406A61D0>"
      ]
     },
     "metadata": {},
     "output_type": "display_data"
    },
    {
     "data": {
      "image/png": "[encoded data removed]",
      "text/plain": [
       "<PIL.Image.Image image mode=RGB size=15x22 at 0x7F93F5C0EC90>"
      ]
     },
     "metadata": {},
     "output_type": "display_data"
    },
    {
     "data": {
      "text/plain": [
       "'2064'"
      ]
     },
     "execution_count": 3,
     "metadata": {},
     "output_type": "execute_result"
    }
   ],
   "source": [
    "solver.predict( ims[-1] )"
   ]
  },
  {
   "cell_type": "markdown",
   "id": "32f3c691-6850-4132-b62e-65fcccdaca67",
   "metadata": {},
   "source": [
    "# FastAPI implementation"
   ]
  },
  {
   "cell_type": "code",
   "execution_count": 4,
   "id": "170ff168-8a00-40be-ad4d-933e687d319d",
   "metadata": {},
   "outputs": [],
   "source": [
    "# Basic import of FastAPI and function to start running the API with Uvicorn\n",
    "\n",
    "import uvicorn\n",
    "from fastapi import FastAPI\n",
    "\n",
    "app = FastAPI()\n",
    "\n",
    "def run():\n",
    "    uvicorn.run(app)"
   ]
  },
  {
   "cell_type": "code",
   "execution_count": 5,
   "id": "1d58c1f9-ccbd-422a-aabb-dab99c3c7179",
   "metadata": {},
   "outputs": [],
   "source": [
    "# Code in this cell is just for (re)starting the API on a Process, and other compatibility stuff with Jupyter cells.\n",
    "# Just ignore it!\n",
    "\n",
    "from multiprocessing import Process\n",
    "from wait4it import wait_for\n",
    "\n",
    "_api_process = None\n",
    "\n",
    "def start_api():\n",
    "    \"\"\"Stop the API if running; Start the API; Wait until API (port) is available (reachable)\"\"\"\n",
    "    global _api_process\n",
    "    if _api_process:\n",
    "        _api_process.terminate()\n",
    "        _api_process.join()\n",
    "    \n",
    "    _api_process = Process(target=run, daemon=True)\n",
    "    _api_process.start()\n",
    "    wait_for(port=8000)\n",
    "\n",
    "def delete_route(method: str, path: str):\n",
    "    \"\"\"Delete the given route from the API. This must be called on cells that re-define a route\"\"\"\n",
    "    [app.routes.remove(route) for route in app.routes if method in route.methods and route.path == path]"
   ]
  },
  {
   "cell_type": "code",
   "execution_count": 6,
   "id": "449116b6-2091-401c-8d59-03550281bd40",
   "metadata": {},
   "outputs": [
    {
     "name": "stderr",
     "output_type": "stream",
     "text": [
      "INFO:     Started server process [514]\n",
      "INFO:     Waiting for application startup.\n",
      "INFO:     Application startup complete.\n",
      "INFO:     Uvicorn running on http://127.0.0.1:8000 (Press CTRL+C to quit)\n"
     ]
    },
    {
     "data": {
      "image/png": "[encoded data removed]",
      "text/plain": [
       "<PIL.Image.Image image mode=RGB size=100x40 at 0x7F9440EED450>"
      ]
     },
     "metadata": {},
     "output_type": "display_data"
    },
    {
     "data": {
      "image/png": "[encoded data removed]",
      "text/plain": [
       "<PIL.Image.Image image mode=RGB size=100x40 at 0x7F9440EED450>"
      ]
     },
     "metadata": {},
     "output_type": "display_data"
    },
    {
     "data": {
      "image/png": "[encoded data removed]",
      "text/plain": [
       "<PIL.Image.Image image mode=RGB size=14x23 at 0x7F9440EC65D0>"
      ]
     },
     "metadata": {},
     "output_type": "display_data"
    },
    {
     "data": {
      "image/png": "[encoded data removed]",
      "text/plain": [
       "<PIL.Image.Image image mode=RGB size=15x23 at 0x7F93F3AA5C10>"
      ]
     },
     "metadata": {},
     "output_type": "display_data"
    },
    {
     "data": {
      "image/png": "[encoded data removed]",
      "text/plain": [
       "<PIL.Image.Image image mode=RGB size=14x23 at 0x7F9440EC65D0>"
      ]
     },
     "metadata": {},
     "output_type": "display_data"
    },
    {
     "data": {
      "image/png": "[encoded data removed]",
      "text/plain": [
       "<PIL.Image.Image image mode=RGB size=15x22 at 0x7F940CDA5750>"
      ]
     },
     "metadata": {},
     "output_type": "display_data"
    },
    {
     "name": "stdout",
     "output_type": "stream",
     "text": [
      "{'result': '2064'}\n",
      "INFO:     127.0.0.1:60952 - \"POST /captcha HTTP/1.1\" 200 OK\n"
     ]
    }
   ],
   "source": [
    "from pydantic import BaseModel\n",
    "from typing import List\n",
    "from typing import Optional\n",
    "from PIL import Image\n",
    "import io\n",
    "import base64\n",
    "\n",
    "class Captcha(BaseModel):\n",
    "    url: str\n",
    "    imagedata: str\n",
    "\n",
    "@app.post(\"/captcha\")\n",
    "def solve_captcha(captcha: Captcha):\n",
    "    #print(base64.b64decode(captcha.imagedata))\n",
    "    im = Image.open(io.BytesIO(base64.b64decode(captcha.imagedata))).convert(\"RGB\")\n",
    "    display(im)\n",
    "    result = {'result' : solver.predict( im )}\n",
    "    print(result)\n",
    "    return dict(result)\n",
    "\n",
    "start_api()"
   ]
  },
  {
   "cell_type": "code",
   "execution_count": null,
   "id": "b8cacd84-92d9-450d-b373-4ae93a83a1c6",
   "metadata": {},
   "outputs": [],
   "source": []
  }
 ],
 "metadata": {
  "kernelspec": {
   "display_name": "Python 3 (ipykernel)",
   "language": "python",
   "name": "python3"
  },
  "language_info": {
   "codemirror_mode": {
    "name": "ipython",
    "version": 3
   },
   "file_extension": ".py",
   "mimetype": "text/x-python",
   "name": "python",
   "nbconvert_exporter": "python",
   "pygments_lexer": "ipython3",
   "version": "3.7.12"
  }
 },
 "nbformat": 4,
 "nbformat_minor": 5
}
