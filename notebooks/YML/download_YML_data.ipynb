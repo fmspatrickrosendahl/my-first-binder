{
 "cells": [
  {
   "cell_type": "code",
   "execution_count": 1,
   "id": "49053876-3c1d-43c4-8003-b8f080613980",
   "metadata": {},
   "outputs": [
    {
     "data": {
      "text/plain": [
       "'/home/jovyan/notebooks/YML/YML_data.zip'"
      ]
     },
     "execution_count": 1,
     "metadata": {},
     "output_type": "execute_result"
    }
   ],
   "source": [
    "import shutil\n",
    "import os\n",
    "\n",
    "zip_name = os.path.join('YML_data' )\n",
    "directory_name = 'data'\n",
    "\n",
    "#os.remove(zip_name + \".zip\")\n",
    "\n",
    "shutil.make_archive(zip_name, 'zip', directory_name)"
   ]
  },
  {
   "cell_type": "code",
   "execution_count": null,
   "id": "e95d3bcb-0677-4a17-8d38-bf654c99e0d3",
   "metadata": {},
   "outputs": [],
   "source": []
  }
 ],
 "metadata": {
  "kernelspec": {
   "display_name": "Python 3 (ipykernel)",
   "language": "python",
   "name": "python3"
  },
  "language_info": {
   "codemirror_mode": {
    "name": "ipython",
    "version": 3
   },
   "file_extension": ".py",
   "mimetype": "text/x-python",
   "name": "python",
   "nbconvert_exporter": "python",
   "pygments_lexer": "ipython3",
   "version": "3.7.12"
  }
 },
 "nbformat": 4,
 "nbformat_minor": 5
}
